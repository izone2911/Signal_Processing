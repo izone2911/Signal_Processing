{
 "cells": [
  {
   "cell_type": "code",
   "execution_count": null,
   "metadata": {},
   "outputs": [],
   "source": [
    "%pip install librosa wavfile torchaudio matplotlib numpy scipy"
   ]
  },
  {
   "cell_type": "markdown",
   "metadata": {},
   "source": [
    "Viết chương trình lọc nhiễu trong tín hiệu âm thanh theo phương trình: y(n) = x(n) + x(n-1) + x(n-2) + … + x(n-N).\n",
    "So sánh chất lượng của âm thanh sau khi lọc nhiễu bằng cách nghe trực tiếp với các giá trị N khác nhau (4, 8, 16, 32, 64, 128, 256, 512, 1024)"
   ]
  },
  {
   "cell_type": "code",
   "execution_count": 5,
   "metadata": {},
   "outputs": [],
   "source": [
    "import wave\n",
    "import numpy as np\n",
    "\n",
    "def read_wave(filename):\n",
    "    with wave.open(filename, 'rb') as wf:\n",
    "        params = wf.getparams()\n",
    "        sampwidth = wf.getsampwidth()\n",
    "        num_frames = wf.getnframes()\n",
    "        frames = wf.readframes(num_frames)\n",
    "        if sampwidth == 2:\n",
    "            audio_data = np.frombuffer(frames, dtype=np.int16)\n",
    "        elif sampwidth == 4:\n",
    "            audio_data = np.frombuffer(frames, dtype=np.int32)\n",
    "    return audio_data, params\n",
    "\n",
    "def write_wave(filename, audio_data, params):\n",
    "    with wave.open(filename, 'wb') as wf:\n",
    "        wf.setnchannels(params.nchannels)\n",
    "        wf.setsampwidth(params.sampwidth)\n",
    "        wf.setframerate(params.framerate)\n",
    "        wf.writeframes(audio_data.tobytes())\n",
    "\n",
    "def moving_average_filter(audio_data, N):\n",
    "    filtered_audio = np.convolve(audio_data, np.ones(N) / N, mode = 'same').astype(audio_data.dtype)\n",
    "    return filtered_audio\n",
    "\n",
    "def process_and_save(input_file, output_file, N):\n",
    "    audio_data, params = read_wave(input_file)\n",
    "    filtered_audio = moving_average_filter(audio_data, N)\n",
    "    write_wave(output_file, filtered_audio, params)"
   ]
  },
  {
   "cell_type": "code",
   "execution_count": 6,
   "metadata": {},
   "outputs": [],
   "source": [
    "import wave\n",
    "import numpy as np\n",
    "\n",
    "N_values = [4, 8, 16, 32, 64, 128, 256, 512, 1024]\n",
    "input_file = r\"E:\\\\Signal_Processing\\\\Week-06\\\\Recording.wav\"\n",
    "\n",
    "for N in N_values:\n",
    "    output_file = f'E:\\\\Signal_Processing\\\\Week-06\\\\output{N}.wav'\n",
    "    process_and_save(input_file, output_file, N)"
   ]
  }
 ],
 "metadata": {
  "kernelspec": {
   "display_name": "Python 3",
   "language": "python",
   "name": "python3"
  },
  "language_info": {
   "codemirror_mode": {
    "name": "ipython",
    "version": 3
   },
   "file_extension": ".py",
   "mimetype": "text/x-python",
   "name": "python",
   "nbconvert_exporter": "python",
   "pygments_lexer": "ipython3",
   "version": "3.11.9"
  }
 },
 "nbformat": 4,
 "nbformat_minor": 2
}
